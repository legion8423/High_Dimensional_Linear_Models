{
  "nbformat": 4,
  "nbformat_minor": 0,
  "metadata": {
    "colab": {
      "provenance": [],
      "toc_visible": true
    },
    "kernelspec": {
      "name": "python3",
      "display_name": "Python 3"
    },
    "language_info": {
      "name": "python"
    }
  },
  "cells": [
    {
      "cell_type": "markdown",
      "source": [
        "## 1"
      ],
      "metadata": {
        "id": "pReMB3FlUTeo"
      }
    },
    {
      "cell_type": "markdown",
      "source": [
        "Eliminando el componente de $y$ que es explicado por $X_2$.\n",
        "\n",
        "Matriz de proyección ortogonal:\n",
        "\n",
        "$$M_{X_2} = I - X_2(X_2^\\top X_2)^{-1}X_2^\\top$$\n",
        "\n",
        "Aplicando $M_{X_2}$ a $y$:\n",
        "\n",
        "$$\\tilde{y} = M_{X_2} y = y - X_2(X_2^\\top X_2)^{-1}X_2^\\top y$$\n",
        "\n",
        "donde $\\tilde{y}$ son  los residuales de la regresión de $y$ sobre $X_2$\n",
        "\n",
        "Eliminando de $X_1$ la parte que está correlacionada con $X_2$.\n",
        "\n",
        "Aplicando la misma matriz $M_{X_2}$ a $X_1$:\n",
        "\n",
        "$$\\tilde{X}_1 = M_{X_2} X_1 = X_1 - X_2(X_2^\\top X_2)^{-1}X_2^\\top X_1$$\n",
        "\n",
        "donde $\\tilde{X}_1$ contiene los residuales de $X_1$ después de eliminar el efecto de $X_2$.\n",
        "\n",
        "Regresionando $\\tilde{y}$ sobre $\\tilde{X}_1$\n",
        "\n",
        "Estimador MCO\n",
        "\n",
        "$$\\hat{\\beta}_1 = (\\tilde{X}_1^\\top\\tilde{X}_1)^{-1} \\tilde{X}_1^\\top\\tilde{y}$$\n",
        "\n",
        "Sustituyendo\n",
        "\n",
        "$$\\tilde{X}_1 = M_{X_2} X_1 \\quad \\text{y} \\quad \\tilde{y} = M_{X_2} y$$\n",
        "\n",
        "Entonces\n",
        "\n",
        "$$\\begin{aligned}\n",
        "\\tilde{X}_1^\\top\\tilde{X}_1 &= (M_{X_2} X_1)^\\top (M_{X_2} X_1) = X_1^\\top M_{X_2}^\\top M_{X_2} X_1 \\\\\n",
        "&= X_1^\\top M_{X_2} X_1 \\quad \\text{(por idempotencia)}\n",
        "\\end{aligned}$$\n",
        "\n",
        "$$\\begin{aligned}\n",
        "\\tilde{X}_1^\\top\\tilde{y} &= (M_{X_2} X_1)^\\top (M_{X_2} y) = X_1^\\top M_{X_2}^\\top M_{X_2} y \\\\\n",
        "&= X_1^\\top M_{X_2} y \\quad \\text{(por idempotencia)}\n",
        "\\end{aligned}$$\n",
        "\n",
        "Por tanto:\n",
        "$$\\boxed{\\hat{\\beta}_1 = (X_1^\\top M_{X_2} X_1)^{-1} X_1^\\top M_{X_2} y}$$\n"
      ],
      "metadata": {
        "id": "4VYdaGsySwhZ"
      }
    },
    {
      "cell_type": "markdown",
      "source": [
        "##2\n"
      ],
      "metadata": {
        "id": "FhNSttxcUWbh"
      }
    },
    {
      "cell_type": "markdown",
      "source": [
        "Regresioanndo $X_1$ en $X_2$\n",
        "\n",
        "$$X_1 = X_2 \\Gamma + R$$\n",
        "\n",
        "donde:\n",
        "- $\\Gamma \\in \\mathbb{R}^{k_2 \\times k_1}$ es la matriz de coeficientes\n",
        "- $R \\in \\mathbb{R}^{n \\times k_1}$ es la matriz de residuos\n",
        "\n",
        "Estimador MCO\n",
        "$$\\hat{\\Gamma} = (X_2^\\top X_2)^{-1} X_2^\\top X_1$$\n",
        "\n",
        "Obteniendo los residuos\n",
        "\n",
        "$$\\tilde{X}_1 = X_1 - X_2 \\hat{\\Gamma}$$\n",
        "\n",
        "Sustituyendo $\\hat{\\Gamma}$\n",
        "\n",
        "$$\\tilde{X}_1 = X_1 - X_2(X_2^\\top X_2)^{-1} X_2^\\top X_1$$\n",
        "\n",
        "Factorizando\n",
        "\n",
        "$$\\tilde{X}_1 = \\left[I - X_2(X_2^\\top X_2)^{-1}X_2^\\top\\right] X_1$$\n",
        "\n",
        "$$\\tilde{X}_1 = M_{X_2} X_1$$\n",
        "\n",
        "donde $M_{X_2} = I - X_2(X_2^\\top X_2)^{-1}X_2^\\top$ es la matriz de proyección ortogonal al espacio columna de $X_2$.\n",
        "\n",
        "\n",
        "$$\\boxed{\\tilde{X}_1 = M_{X_2} X_1 = X_1 - X_2(X_2^\\top X_2)^{-1}X_2^\\top X_1}$$\n"
      ],
      "metadata": {
        "id": "MSepnSWoURoq"
      }
    },
    {
      "cell_type": "markdown",
      "source": [
        "##3"
      ],
      "metadata": {
        "id": "ZprYyOJTVrJT"
      }
    },
    {
      "cell_type": "markdown",
      "source": [
        "Recordando los residuos construidos en pasos anteriores\n",
        "\n",
        "$$\\tilde{y} = M_{X_2} y$$\n",
        "$$\\tilde{X}_1 = M_{X_2} X_1$$\n",
        "\n",
        "donde $M_{X_2} = I - X_2(X_2^\\top X_2)^{-1}X_2^\\top$ es la matriz de proyección ortogonal al espacio columna de $X_2$.\n",
        "\n",
        "\n",
        "Regresamos los residuos de $y$ sobre los residuos de $X_1$:\n",
        "\n",
        "$$\\hat{\\beta}_1^{\\text{res}} = (\\tilde{X}_1^\\top \\tilde{X}_1)^{-1} \\tilde{X}_1^\\top \\tilde{y}$$\n",
        "\n",
        "Reemplazamos usando que $\\tilde{X}_1 = M_{X_2} X_1$ y $\\tilde{y} = M_{X_2} y$:\n",
        "$$\\hat{\\beta}_1^{\\text{res}} = (X_1^\\top M_{X_2} X_1)^{-1} X_1^\\top M_{X_2} y$$\n",
        "\n",
        "Recordando el estimador MCO para $\\beta_1$\n",
        "\n",
        "$$\\hat{\\beta}_1 = (X_1^\\top M_{X_2} X_1)^{-1} X_1^\\top M_{X_2} y$$\n",
        "\n",
        "Comparando\n",
        "\n",
        "$$\\boxed{\\hat{\\beta}_1^{\\text{res}} = \\hat{\\beta}_1 = (X_1^\\top M_{X_2} X_1)^{-1} X_1^\\top M_{X_2} y}$$\n",
        "\n",
        "Observamos que el coeficiente estimado al regresar $\\tilde{y}$ en $\\tilde{X}_1$ es igual al coeficiente que se obtendría al hacer la regresión completa de $y$ en $[X_1, X_2]$."
      ],
      "metadata": {
        "id": "cmLP8Co8WFcO"
      }
    }
  ]
}